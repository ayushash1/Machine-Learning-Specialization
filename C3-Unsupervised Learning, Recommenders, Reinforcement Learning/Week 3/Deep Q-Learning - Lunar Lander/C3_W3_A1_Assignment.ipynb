{
 "cells": [
  {
   "cell_type": "markdown",
   "metadata": {},
   "source": [
    "# Deep Q-Learning - Lunar Lander\n",
    "\n",
    "In this assignment, you will train an agent to land a lunar lander safely on a landing pad on the surface of the moon.\n",
    "\n",
    "\n",
    "# Outline\n",
    "- [ 1 - Import Packages <img align=\"Right\" src=\"./images/lunar_lander.gif\" width = 60% >](#1)\n",
    "- [ 2 - Hyperparameters](#2)\n",
    "- [ 3 - The Lunar Lander Environment](#3)\n",
    "  - [ 3.1 Action Space](#3.1)\n",
    "  - [ 3.2 Observation Space](#3.2)\n",
    "  - [ 3.3 Rewards](#3.3)\n",
    "  - [ 3.4 Episode Termination](#3.4)\n",
    "- [ 4 - Load the Environment](#4)\n",
    "- [ 5 - Interacting with the Gym Environment](#5)\n",
    "    - [ 5.1 Exploring the Environment's Dynamics](#5.1)\n",
    "- [ 6 - Deep Q-Learning](#6)\n",
    "  - [ 6.1 Target Network](#6.1)\n",
    "    - [ Exercise 1](#ex01)\n",
    "  - [ 6.2 Experience Replay](#6.2)\n",
    "- [ 7 - Deep Q-Learning Algorithm with Experience Replay](#7)\n",
    "  - [ Exercise 2](#ex02)\n",
    "- [ 8 - Update the Network Weights](#8)\n",
    "- [ 9 - Train the Agent](#9)\n",
    "- [ 10 - See the Trained Agent In Action](#10)\n",
    "- [ 11 - Congratulations!](#11)\n",
    "- [ 12 - References](#12)\n"
   ]
  },
  {
   "cell_type": "markdown",
   "metadata": {},
   "source": [
    "_**NOTE:** To prevent errors from the autograder, you are not allowed to edit or delete non-graded cells in this lab. Please also refrain from adding any new cells. \n",
    "**Once you have passed this assignment** and want to experiment with any of the non-graded code, you may follow the instructions at the bottom of this notebook._"
   ]
  },
  {
   "cell_type": "markdown",
   "metadata": {},
   "source": [
    "<a name=\"1\"></a>\n",
    "## 1 - Import Packages\n",
    "\n",
    "We'll make use of the following packages:\n",
    "- `numpy` is a package for scientific computing in python.\n",
    "- `deque` will be our data structure for our memory buffer.\n",
    "- `namedtuple` will be used to store the experience tuples.\n",
    "- The `gym` toolkit is a collection of environments that can be used to test reinforcement learning algorithms. We should note that in this notebook we are using `gym` version `0.24.0`.\n",
    "- `PIL.Image` and `pyvirtualdisplay` are needed to render the Lunar Lander environment.\n",
    "- We will use several modules from the `tensorflow.keras` framework for building deep learning models.\n",
    "- `utils` is a module that contains helper functions for this assignment. You do not need to modify the code in this file.\n",
    "\n",
    "Run the cell below to import all the necessary packages."
   ]
  },
  {
   "cell_type": "code",
   "execution_count": 1,
   "metadata": {
    "deletable": false,
    "editable": false,
    "id": "KYbOPKRtfQOr"
   },
   "outputs": [],
   "source": [
    "import time\n",
    "from collections import deque, namedtuple\n",
    "\n",
    "import gym\n",
    "import numpy as np\n",
    "import PIL.Image\n",
    "import tensorflow as tf\n",
    "import utils\n",
    "\n",
    "from pyvirtualdisplay import Display\n",
    "from tensorflow.keras import Sequential\n",
    "from tensorflow.keras.layers import Dense, Input\n",
    "from tensorflow.keras.losses import MSE\n",
    "from tensorflow.keras.optimizers import Adam"
   ]
  },
  {
   "cell_type": "code",
   "execution_count": 2,
   "metadata": {
    "deletable": false,
    "editable": false
   },
   "outputs": [],
   "source": [
    "# Set up a virtual display to render the Lunar Lander environment.\n",
    "Display(visible=0, size=(840, 480)).start();\n",
    "\n",
    "# Set the random seed for TensorFlow\n",
    "tf.random.set_seed(utils.SEED)"
   ]
  },
  {
   "cell_type": "markdown",
   "metadata": {},
   "source": [
    "<a name=\"2\"></a>\n",
    "## 2 - Hyperparameters\n",
    "\n",
    "Run the cell below to set the hyperparameters."
   ]
  },
  {
   "cell_type": "code",
   "execution_count": 3,
   "metadata": {
    "deletable": false,
    "editable": false
   },
   "outputs": [],
   "source": [
    "MEMORY_SIZE = 100_000     # size of memory buffer\n",
    "GAMMA = 0.995             # discount factor\n",
    "ALPHA = 1e-3              # learning rate  \n",
    "NUM_STEPS_FOR_UPDATE = 4  # perform a learning update every C time steps"
   ]
  },
  {
   "cell_type": "markdown",
   "metadata": {},
   "source": [
    "<a name=\"3\"></a>\n",
    "## 3 - The Lunar Lander Environment\n",
    "\n",
    "In this notebook we will be using [OpenAI's Gym Library](https://www.gymlibrary.dev/). The Gym library provides a wide variety of environments for reinforcement learning. To put it simply, an environment represents a problem or task to be solved. In this notebook, we will try to solve the Lunar Lander environment using reinforcement learning.\n",
    "\n",
    "The goal of the Lunar Lander environment is to land the lunar lander safely on the landing pad on the surface of the moon. The landing pad is designated by two flag poles and its center is at coordinates `(0,0)` but the lander is also allowed to land outside of the landing pad. The lander starts at the top center of the environment with a random initial force applied to its center of mass and has infinite fuel. The environment is considered solved if you get `200` points. \n",
    "\n",
    "<br>\n",
    "<br>\n",
    "<figure>\n",
    "  <img src = \"images/lunar_lander.gif\" width = 40%>\n",
    "      <figcaption style = \"text-align: center; font-style: italic\">Fig 1. Lunar Lander Environment.</figcaption>\n",
    "</figure>\n",
    "\n",
    "\n",
    "\n",
    "<a name=\"3.1\"></a>\n",
    "### 3.1 Action Space\n",
    "\n",
    "The agent has four discrete actions available:\n",
    "\n",
    "* Do nothing.\n",
    "* Fire right engine.\n",
    "* Fire main engine.\n",
    "* Fire left engine.\n",
    "\n",
    "Each action has a corresponding numerical value:\n",
    "\n",
    "```python\n",
    "Do nothing = 0\n",
    "Fire right engine = 1\n",
    "Fire main engine = 2\n",
    "Fire left engine = 3\n",
    "```\n",
    "\n",
    "<a name=\"3.2\"></a>\n",
    "### 3.2 Observation Space\n",
    "\n",
    "The agent's observation space consists of a state vector with 8 variables:\n",
    "\n",
    "* Its $(x,y)$ coordinates. The landing pad is always at coordinates $(0,0)$.\n",
    "* Its linear velocities $(\\dot x,\\dot y)$.\n",
    "* Its angle $\\theta$.\n",
    "* Its angular velocity $\\dot \\theta$.\n",
    "* Two booleans, $l$ and $r$, that represent whether each leg is in contact with the ground or not.\n",
    "\n",
    "<a name=\"3.3\"></a>\n",
    "### 3.3 Rewards\n",
    "\n",
    "After every step, a reward is granted. The total reward of an episode is the sum of the rewards for all the steps within that episode.\n",
    "\n",
    "For each step, the reward:\n",
    "- is increased/decreased the closer/further the lander is to the landing pad.\n",
    "- is increased/decreased the slower/faster the lander is moving.\n",
    "- is decreased the more the lander is tilted (angle not horizontal).\n",
    "- is increased by 10 points for each leg that is in contact with the ground.\n",
    "- is decreased by 0.03 points each frame a side engine is firing.\n",
    "- is decreased by 0.3 points each frame the main engine is firing.\n",
    "\n",
    "The episode receives an additional reward of -100 or +100 points for crashing or landing safely respectively.\n",
    "\n",
    "<a name=\"3.4\"></a>\n",
    "### 3.4 Episode Termination\n",
    "\n",
    "An episode ends (i.e the environment enters a terminal state) if:\n",
    "\n",
    "* The lunar lander crashes (i.e if the body of the lunar lander comes in contact with the surface of the moon).\n",
    "\n",
    "* The absolute value of the lander's $x$-coordinate is greater than 1 (i.e. it goes beyond the left or right border)\n",
    "\n",
    "You can check out the [Open AI Gym documentation](https://www.gymlibrary.dev/environments/box2d/lunar_lander/) for a full description of the environment. "
   ]
  },
  {
   "cell_type": "markdown",
   "metadata": {},
   "source": [
    "<a name=\"4\"></a>\n",
    "## 4 - Load the Environment\n",
    "\n",
    "We start by loading the `LunarLander-v2` environment from the `gym` library by using the `.make()` method. `LunarLander-v2` is the latest version of the Lunar Lander environment and you can read about its version history in the [Open AI Gym documentation](https://www.gymlibrary.dev/environments/box2d/lunar_lander/#version-history)."
   ]
  },
  {
   "cell_type": "code",
   "execution_count": 5,
   "metadata": {
    "deletable": false,
    "editable": false,
    "id": "ILVMYKewfR0n"
   },
   "outputs": [],
   "source": [
    "env = gym.make('LunarLander-v2')"
   ]
  },
  {
   "cell_type": "markdown",
   "metadata": {},
   "source": [
    "Once we load the environment we use the `.reset()` method to reset the environment to the initial state. The lander starts at the top center of the environment and we can render the first frame of the environment by using the `.render()` method."
   ]
  },
  {
   "cell_type": "code",
   "execution_count": 7,
   "metadata": {
    "deletable": false,
    "editable": false
   },
   "outputs": [
    {
     "data": {
      "image/png": "[encoded data removed]",
      "text/plain": [
       "<PIL.Image.Image image mode=RGB size=600x400 at 0x7FCFC7EE0510>"
      ]
     },
     "execution_count": 7,
     "metadata": {},
     "output_type": "execute_result"
    }
   ],
   "source": [
    "env.reset()\n",
    "PIL.Image.fromarray(env.render(mode='rgb_array'))"
   ]
  },
  {
   "cell_type": "markdown",
   "metadata": {},
   "source": [
    "In order to build our neural network later on we need to know the size of the state vector and the number of valid actions. We can get this information from our environment by using the `.observation_space.shape` and `action_space.n` methods, respectively."
   ]
  },
  {
   "cell_type": "code",
   "execution_count": 8,
   "metadata": {
    "deletable": false,
    "editable": false,
    "id": "x3fdqdG4CUu2"
   },
   "outputs": [
    {
     "name": "stdout",
     "output_type": "stream",
     "text": [
      "State Shape: (8,)\n",
      "Number of actions: 4\n"
     ]
    }
   ],
   "source": [
    "state_size = env.observation_space.shape\n",
    "num_actions = env.action_space.n\n",
    "\n",
    "print('State Shape:', state_size)\n",
    "print('Number of actions:', num_actions)"
   ]
  },
  {
   "cell_type": "markdown",
   "metadata": {},
   "source": [
    "<a name=\"5\"></a>\n",
    "## 5 - Interacting with the Gym Environment\n",
    "\n",
    "The Gym library implements the standard “agent-environment loop” formalism:\n",
    "\n",
    "<br>\n",
    "<center>\n",
    "<video src = \"./videos/rl_formalism.m4v\" width=\"840\" height=\"480\" controls autoplay loop poster=\"./images/rl_formalism.png\"> </video>\n",
    "<figcaption style = \"text-align:center; font-style:italic\">Fig 2. Agent-environment Loop Formalism.</figcaption>\n",
    "</center>\n",
    "<br>\n",
    "\n",
    "In the standard “agent-environment loop” formalism, an agent interacts with the environment in discrete time steps $t=0,1,2,...$. At each time step $t$, the agent uses a policy $\\pi$ to select an action $A_t$ based on its observation of the environment's state $S_t$. The agent receives a numerical reward $R_t$ and on the next time step, moves to a new state $S_{t+1}$.\n",
    "\n",
    "<a name=\"5.1\"></a>\n",
    "### 5.1 Exploring the Environment's Dynamics\n",
    "\n",
    "In Open AI's Gym environments, we use the `.step()` method to run a single time step of the environment's dynamics. In the version of `gym` that we are using the `.step()` method accepts an action and returns four values:\n",
    "\n",
    "* `observation` (**object**): an environment-specific object representing your observation of the environment. In the Lunar Lander environment this corresponds to a numpy array containing the positions and velocities of the lander as described in section [3.2 Observation Space](#3.2).\n",
    "\n",
    "\n",
    "* `reward` (**float**): amount of reward returned as a result of taking the given action. In the Lunar Lander environment this corresponds to a float of type `numpy.float64` as described in section [3.3 Rewards](#3.3).\n",
    "\n",
    "\n",
    "* `done` (**boolean**): When done is `True`, it indicates the episode has terminated and it’s time to reset the environment. \n",
    "\n",
    "\n",
    "* `info` (**dictionary**): diagnostic information useful for debugging. We won't be using this variable in this notebook but it is shown here for completeness.\n",
    "\n",
    "To begin an episode, we need to reset the environment to an initial state. We do this by using the `.reset()` method. "
   ]
  },
  {
   "cell_type": "code",
   "execution_count": 9,
   "metadata": {
    "deletable": false,
    "editable": false
   },
   "outputs": [],
   "source": [
    "# Reset the environment and get the initial state.\n",
    "current_state = env.reset()"
   ]
  },
  {
   "cell_type": "markdown",
   "metadata": {},
   "source": [
    "Once the environment is reset, the agent can start taking actions in the environment by using the `.step()` method. Note that the agent can only take one action per time step. \n",
    "\n",
    "In the cell below you can select different actions and see how the returned values change depending on the action taken. Remember that in this environment the agent has four discrete actions available and we specify them in code by using their corresponding numerical value:\n",
    "\n",
    "```python\n",
    "Do nothing = 0\n",
    "Fire right engine = 1\n",
    "Fire main engine = 2\n",
    "Fire left engine = 3\n",
    "```"
   ]
  },
  {
   "cell_type": "code",
   "execution_count": 10,
   "metadata": {
    "deletable": false
   },
   "outputs": [
    {
     "data": {
      "text/html": [
       "<style  type=\"text/css\" >\n",
       "    #T_03834418_7e3b_11ee_9a71_0242ac120099 th {\n",
       "          border: 1px solid grey;\n",
       "          text-align: center;\n",
       "    }    #T_03834418_7e3b_11ee_9a71_0242ac120099 tbody td {\n",
       "          border: 1px solid grey;\n",
       "          text-align: center;\n",
       "    }    #T_03834418_7e3b_11ee_9a71_0242ac120099row0_col0 {\n",
       "            background-color :  grey;\n",
       "        }    #T_03834418_7e3b_11ee_9a71_0242ac120099row1_col1 {\n",
       "            background-color :  grey;\n",
       "        }    #T_03834418_7e3b_11ee_9a71_0242ac120099row1_col2 {\n",
       "            background-color :  grey;\n",
       "        }    #T_03834418_7e3b_11ee_9a71_0242ac120099row1_col3 {\n",
       "            background-color :  grey;\n",
       "        }    #T_03834418_7e3b_11ee_9a71_0242ac120099row1_col4 {\n",
       "            background-color :  grey;\n",
       "        }    #T_03834418_7e3b_11ee_9a71_0242ac120099row1_col5 {\n",
       "            background-color :  grey;\n",
       "        }    #T_03834418_7e3b_11ee_9a71_0242ac120099row1_col6 {\n",
       "            background-color :  grey;\n",
       "        }    #T_03834418_7e3b_11ee_9a71_0242ac120099row1_col7 {\n",
       "            background-color :  grey;\n",
       "        }    #T_03834418_7e3b_11ee_9a71_0242ac120099row1_col8 {\n",
       "            background-color :  grey;\n",
       "        }    #T_03834418_7e3b_11ee_9a71_0242ac120099row1_col9 {\n",
       "            background-color :  grey;\n",
       "        }    #T_03834418_7e3b_11ee_9a71_0242ac120099row1_col10 {\n",
       "            background-color :  grey;\n",
       "        }    #T_03834418_7e3b_11ee_9a71_0242ac120099row1_col11 {\n",
       "            background-color :  grey;\n",
       "        }    #T_03834418_7e3b_11ee_9a71_0242ac120099row2_col0 {\n",
       "            background-color :  grey;\n",
       "        }    #T_03834418_7e3b_11ee_9a71_0242ac120099row3_col1 {\n",
       "            background-color :  grey;\n",
       "        }    #T_03834418_7e3b_11ee_9a71_0242ac120099row3_col2 {\n",
       "            background-color :  grey;\n",
       "        }    #T_03834418_7e3b_11ee_9a71_0242ac120099row3_col3 {\n",
       "            background-color :  grey;\n",
       "        }    #T_03834418_7e3b_11ee_9a71_0242ac120099row3_col4 {\n",
       "            background-color :  grey;\n",
       "        }    #T_03834418_7e3b_11ee_9a71_0242ac120099row3_col5 {\n",
       "            background-color :  grey;\n",
       "        }    #T_03834418_7e3b_11ee_9a71_0242ac120099row3_col6 {\n",
       "            background-color :  grey;\n",
       "        }    #T_03834418_7e3b_11ee_9a71_0242ac120099row3_col7 {\n",
       "            background-color :  grey;\n",
       "        }    #T_03834418_7e3b_11ee_9a71_0242ac120099row3_col8 {\n",
       "            background-color :  grey;\n",
       "        }    #T_03834418_7e3b_11ee_9a71_0242ac120099row3_col9 {\n",
       "            background-color :  grey;\n",
       "        }    #T_03834418_7e3b_11ee_9a71_0242ac120099row3_col10 {\n",
       "            background-color :  grey;\n",
       "        }    #T_03834418_7e3b_11ee_9a71_0242ac120099row3_col11 {\n",
       "            background-color :  grey;\n",
       "        }    #T_03834418_7e3b_11ee_9a71_0242ac120099row4_col1 {\n",
       "            background-color :  grey;\n",
       "        }    #T_03834418_7e3b_11ee_9a71_0242ac120099row4_col2 {\n",
       "            background-color :  grey;\n",
       "        }    #T_03834418_7e3b_11ee_9a71_0242ac120099row4_col3 {\n",
       "            background-color :  grey;\n",
       "        }    #T_03834418_7e3b_11ee_9a71_0242ac120099row4_col4 {\n",
       "            background-color :  grey;\n",
       "        }    #T_03834418_7e3b_11ee_9a71_0242ac120099row4_col5 {\n",
       "            background-color :  grey;\n",
       "        }    #T_03834418_7e3b_11ee_9a71_0242ac120099row4_col6 {\n",
       "            background-color :  grey;\n",
       "        }    #T_03834418_7e3b_11ee_9a71_0242ac120099row4_col7 {\n",
       "            background-color :  grey;\n",
       "        }    #T_03834418_7e3b_11ee_9a71_0242ac120099row4_col8 {\n",
       "            background-color :  grey;\n",
       "        }    #T_03834418_7e3b_11ee_9a71_0242ac120099row4_col9 {\n",
       "            background-color :  grey;\n",
       "        }    #T_03834418_7e3b_11ee_9a71_0242ac120099row4_col10 {\n",
       "            background-color :  grey;\n",
       "        }    #T_03834418_7e3b_11ee_9a71_0242ac120099row4_col11 {\n",
       "            background-color :  grey;\n",
       "        }</style><table id=\"T_03834418_7e3b_11ee_9a71_0242ac120099\" ><thead>    <tr>        <th class=\"blank level0\" ></th>        <th class=\"col_heading level0 col0\" ></th>        <th class=\"col_heading level0 col1\" colspan=8>State Vector</th>        <th class=\"col_heading level0 col9\" colspan=3>Derived from the State Vector (the closer to zero, the better)</th>    </tr>    <tr>        <th class=\"blank level1\" ></th>        <th class=\"col_heading level1 col0\" ></th>        <th class=\"col_heading level1 col1\" colspan=2>Coordinate</th>        <th class=\"col_heading level1 col3\" colspan=2>Velocity</th>        <th class=\"col_heading level1 col5\" colspan=2>Tilting</th>        <th class=\"col_heading level1 col7\" colspan=2>Ground contact</th>        <th class=\"col_heading level1 col9\" >Distance from landing pad</th>        <th class=\"col_heading level1 col10\" >Velocity</th>        <th class=\"col_heading level1 col11\" >Tilting Angle (absolute value)</th>    </tr>    <tr>        <th class=\"blank level2\" ></th>        <th class=\"col_heading level2 col0\" ></th>        <th class=\"col_heading level2 col1\" >X (Horizontal)</th>        <th class=\"col_heading level2 col2\" >Y (Vertical)</th>        <th class=\"col_heading level2 col3\" >X (Horizontal)</th>        <th class=\"col_heading level2 col4\" >Y (Vertical)</th>        <th class=\"col_heading level2 col5\" >Angle</th>        <th class=\"col_heading level2 col6\" >Angular Velocity</th>        <th class=\"col_heading level2 col7\" >Left Leg?</th>        <th class=\"col_heading level2 col8\" >Right Leg?</th>        <th class=\"col_heading level2 col9\" ></th>        <th class=\"col_heading level2 col10\" ></th>        <th class=\"col_heading level2 col11\" ></th>    </tr></thead><tbody>\n",
       "                <tr>\n",
       "                        <th id=\"T_03834418_7e3b_11ee_9a71_0242ac120099level0_row0\" class=\"row_heading level0 row0\" >Current State</th>\n",
       "                        <td id=\"T_03834418_7e3b_11ee_9a71_0242ac120099row0_col0\" class=\"data row0 col0\" ></td>\n",
       "                        <td id=\"T_03834418_7e3b_11ee_9a71_0242ac120099row0_col1\" class=\"data row0 col1\" >-0.007748</td>\n",
       "                        <td id=\"T_03834418_7e3b_11ee_9a71_0242ac120099row0_col2\" class=\"data row0 col2\" >1.419120</td>\n",
       "                        <td id=\"T_03834418_7e3b_11ee_9a71_0242ac120099row0_col3\" class=\"data row0 col3\" >-0.784778</td>\n",
       "                        <td id=\"T_03834418_7e3b_11ee_9a71_0242ac120099row0_col4\" class=\"data row0 col4\" >0.364432</td>\n",
       "                        <td id=\"T_03834418_7e3b_11ee_9a71_0242ac120099row0_col5\" class=\"data row0 col5\" >0.008984</td>\n",
       "                        <td id=\"T_03834418_7e3b_11ee_9a71_0242ac120099row0_col6\" class=\"data row0 col6\" >0.177764</td>\n",
       "                        <td id=\"T_03834418_7e3b_11ee_9a71_0242ac120099row0_col7\" class=\"data row0 col7\" >False</td>\n",
       "                        <td id=\"T_03834418_7e3b_11ee_9a71_0242ac120099row0_col8\" class=\"data row0 col8\" >False</td>\n",
       "                        <td id=\"T_03834418_7e3b_11ee_9a71_0242ac120099row0_col9\" class=\"data row0 col9\" >1.419142</td>\n",
       "                        <td id=\"T_03834418_7e3b_11ee_9a71_0242ac120099row0_col10\" class=\"data row0 col10\" >0.865267</td>\n",
       "                        <td id=\"T_03834418_7e3b_11ee_9a71_0242ac120099row0_col11\" class=\"data row0 col11\" >0.008984</td>\n",
       "            </tr>\n",
       "            <tr>\n",
       "                        <th id=\"T_03834418_7e3b_11ee_9a71_0242ac120099level0_row1\" class=\"row_heading level0 row1\" >Action</th>\n",
       "                        <td id=\"T_03834418_7e3b_11ee_9a71_0242ac120099row1_col0\" class=\"data row1 col0\" >Do nothing</td>\n",
       "                        <td id=\"T_03834418_7e3b_11ee_9a71_0242ac120099row1_col1\" class=\"data row1 col1\" ></td>\n",
       "                        <td id=\"T_03834418_7e3b_11ee_9a71_0242ac120099row1_col2\" class=\"data row1 col2\" ></td>\n",
       "                        <td id=\"T_03834418_7e3b_11ee_9a71_0242ac120099row1_col3\" class=\"data row1 col3\" ></td>\n",
       "                        <td id=\"T_03834418_7e3b_11ee_9a71_0242ac120099row1_col4\" class=\"data row1 col4\" ></td>\n",
       "                        <td id=\"T_03834418_7e3b_11ee_9a71_0242ac120099row1_col5\" class=\"data row1 col5\" ></td>\n",
       "                        <td id=\"T_03834418_7e3b_11ee_9a71_0242ac120099row1_col6\" class=\"data row1 col6\" ></td>\n",
       "                        <td id=\"T_03834418_7e3b_11ee_9a71_0242ac120099row1_col7\" class=\"data row1 col7\" ></td>\n",
       "                        <td id=\"T_03834418_7e3b_11ee_9a71_0242ac120099row1_col8\" class=\"data row1 col8\" ></td>\n",
       "                        <td id=\"T_03834418_7e3b_11ee_9a71_0242ac120099row1_col9\" class=\"data row1 col9\" ></td>\n",
       "                        <td id=\"T_03834418_7e3b_11ee_9a71_0242ac120099row1_col10\" class=\"data row1 col10\" ></td>\n",
       "                        <td id=\"T_03834418_7e3b_11ee_9a71_0242ac120099row1_col11\" class=\"data row1 col11\" ></td>\n",
       "            </tr>\n",
       "            <tr>\n",
       "                        <th id=\"T_03834418_7e3b_11ee_9a71_0242ac120099level0_row2\" class=\"row_heading level0 row2\" >Next State</th>\n",
       "                        <td id=\"T_03834418_7e3b_11ee_9a71_0242ac120099row2_col0\" class=\"data row2 col0\" ></td>\n",
       "                        <td id=\"T_03834418_7e3b_11ee_9a71_0242ac120099row2_col1\" class=\"data row2 col1\" >-0.015496</td>\n",
       "                        <td id=\"T_03834418_7e3b_11ee_9a71_0242ac120099row2_col2\" class=\"data row2 col2\" >1.426743</td>\n",
       "                        <td id=\"T_03834418_7e3b_11ee_9a71_0242ac120099row2_col3\" class=\"data row2 col3\" >-0.783716</td>\n",
       "                        <td id=\"T_03834418_7e3b_11ee_9a71_0242ac120099row2_col4\" class=\"data row2 col4\" >0.338718</td>\n",
       "                        <td id=\"T_03834418_7e3b_11ee_9a71_0242ac120099row2_col5\" class=\"data row2 col5\" >0.017769</td>\n",
       "                        <td id=\"T_03834418_7e3b_11ee_9a71_0242ac120099row2_col6\" class=\"data row2 col6\" >0.175698</td>\n",
       "                        <td id=\"T_03834418_7e3b_11ee_9a71_0242ac120099row2_col7\" class=\"data row2 col7\" >False</td>\n",
       "                        <td id=\"T_03834418_7e3b_11ee_9a71_0242ac120099row2_col8\" class=\"data row2 col8\" >False</td>\n",
       "                        <td id=\"T_03834418_7e3b_11ee_9a71_0242ac120099row2_col9\" class=\"data row2 col9\" >1.426828</td>\n",
       "                        <td id=\"T_03834418_7e3b_11ee_9a71_0242ac120099row2_col10\" class=\"data row2 col10\" >0.853780</td>\n",
       "                        <td id=\"T_03834418_7e3b_11ee_9a71_0242ac120099row2_col11\" class=\"data row2 col11\" >0.017769</td>\n",
       "            </tr>\n",
       "            <tr>\n",
       "                        <th id=\"T_03834418_7e3b_11ee_9a71_0242ac120099level0_row3\" class=\"row_heading level0 row3\" >Reward</th>\n",
       "                        <td id=\"T_03834418_7e3b_11ee_9a71_0242ac120099row3_col0\" class=\"data row3 col0\" >-0.498333</td>\n",
       "                        <td id=\"T_03834418_7e3b_11ee_9a71_0242ac120099row3_col1\" class=\"data row3 col1\" ></td>\n",
       "                        <td id=\"T_03834418_7e3b_11ee_9a71_0242ac120099row3_col2\" class=\"data row3 col2\" ></td>\n",
       "                        <td id=\"T_03834418_7e3b_11ee_9a71_0242ac120099row3_col3\" class=\"data row3 col3\" ></td>\n",
       "                        <td id=\"T_03834418_7e3b_11ee_9a71_0242ac120099row3_col4\" class=\"data row3 col4\" ></td>\n",
       "                        <td id=\"T_03834418_7e3b_11ee_9a71_0242ac120099row3_col5\" class=\"data row3 col5\" ></td>\n",
       "                        <td id=\"T_03834418_7e3b_11ee_9a71_0242ac120099row3_col6\" class=\"data row3 col6\" ></td>\n",
       "                        <td id=\"T_03834418_7e3b_11ee_9a71_0242ac120099row3_col7\" class=\"data row3 col7\" ></td>\n",
       "                        <td id=\"T_03834418_7e3b_11ee_9a71_0242ac120099row3_col8\" class=\"data row3 col8\" ></td>\n",
       "                        <td id=\"T_03834418_7e3b_11ee_9a71_0242ac120099row3_col9\" class=\"data row3 col9\" ></td>\n",
       "                        <td id=\"T_03834418_7e3b_11ee_9a71_0242ac120099row3_col10\" class=\"data row3 col10\" ></td>\n",
       "                        <td id=\"T_03834418_7e3b_11ee_9a71_0242ac120099row3_col11\" class=\"data row3 col11\" ></td>\n",
       "            </tr>\n",
       "            <tr>\n",
       "                        <th id=\"T_03834418_7e3b_11ee_9a71_0242ac120099level0_row4\" class=\"row_heading level0 row4\" >Episode Terminated</th>\n",
       "                        <td id=\"T_03834418_7e3b_11ee_9a71_0242ac120099row4_col0\" class=\"data row4 col0\" >False</td>\n",
       "                        <td id=\"T_03834418_7e3b_11ee_9a71_0242ac120099row4_col1\" class=\"data row4 col1\" ></td>\n",
       "                        <td id=\"T_03834418_7e3b_11ee_9a71_0242ac120099row4_col2\" class=\"data row4 col2\" ></td>\n",
       "                        <td id=\"T_03834418_7e3b_11ee_9a71_0242ac120099row4_col3\" class=\"data row4 col3\" ></td>\n",
       "                        <td id=\"T_03834418_7e3b_11ee_9a71_0242ac120099row4_col4\" class=\"data row4 col4\" ></td>\n",
       "                        <td id=\"T_03834418_7e3b_11ee_9a71_0242ac120099row4_col5\" class=\"data row4 col5\" ></td>\n",
       "                        <td id=\"T_03834418_7e3b_11ee_9a71_0242ac120099row4_col6\" class=\"data row4 col6\" ></td>\n",
       "                        <td id=\"T_03834418_7e3b_11ee_9a71_0242ac120099row4_col7\" class=\"data row4 col7\" ></td>\n",
       "                        <td id=\"T_03834418_7e3b_11ee_9a71_0242ac120099row4_col8\" class=\"data row4 col8\" ></td>\n",
       "                        <td id=\"T_03834418_7e3b_11ee_9a71_0242ac120099row4_col9\" class=\"data row4 col9\" ></td>\n",
       "                        <td id=\"T_03834418_7e3b_11ee_9a71_0242ac120099row4_col10\" class=\"data row4 col10\" ></td>\n",
       "                        <td id=\"T_03834418_7e3b_11ee_9a71_0242ac120099row4_col11\" class=\"data row4 col11\" ></td>\n",
       "            </tr>\n",
       "    </tbody></table>"
      ],
      "text/plain": [
       "<pandas.io.formats.style.Styler at 0x7fd0806fe050>"
      ]
     },
     "metadata": {},
     "output_type": "display_data"
    }
   ],
   "source": [
    "# Select an action\n",
    "action = 0\n",
    "\n",
    "# Run a single time step of the environment's dynamics with the given action.\n",
    "next_state, reward, done, _ = env.step(action)\n",
    "\n",
    "# Display table with values.\n",
    "utils.display_table(current_state, action, next_state, reward, done)\n",
    "\n",
    "# Replace the `current_state` with the state after the action is taken\n",
    "current_state = next_state"
   ]
  },
  {
   "cell_type": "markdown",
   "metadata": {},
   "source": [
    "In practice, when we train the agent we use a loop to allow the agent to take many consecutive actions during an episode."
   ]
  },
  {
   "cell_type": "markdown",
   "metadata": {},
   "source": [
    "<a name=\"6\"></a>\n",
    "## 6 - Deep Q-Learning\n",
    "\n",
    "In cases where both the state and action space are discrete we can estimate the action-value function iteratively by using the Bellman equation:\n",
    "\n",
    "$$\n",
    "Q_{i+1}(s,a) = R + \\gamma \\max_{a'}Q_i(s',a')\n",
    "$$\n",
    "\n",
    "This iterative method converges to the optimal action-value function $Q^*(s,a)$ as $i\\to\\infty$. This means that the agent just needs to gradually explore the state-action space and keep updating the estimate of $Q(s,a)$ until it converges to the optimal action-value function $Q^*(s,a)$. However, in cases where the state space is continuous it becomes practically impossible to explore the entire state-action space. Consequently, this also makes it practically impossible to gradually estimate $Q(s,a)$ until it converges to $Q^*(s,a)$.\n",
    "\n",
    "In the Deep $Q$-Learning, we solve this problem by using a neural network to estimate the action-value function $Q(s,a)\\approx Q^*(s,a)$. We call this neural network a $Q$-Network and it can be trained by adjusting its weights at each iteration to minimize the mean-squared error in the Bellman equation.\n",
    "\n",
    "Unfortunately, using neural networks in reinforcement learning to estimate action-value functions has proven to be highly unstable. Luckily, there's a couple of techniques that can be employed to avoid instabilities. These techniques consist of using a ***Target Network*** and ***Experience Replay***. We will explore these two techniques in the following sections."
   ]
  },
  {
   "cell_type": "markdown",
   "metadata": {},
   "source": [
    "<a name=\"6.1\"></a>\n",
    "### 6.1 Target Network\n",
    "\n",
    "We can train the $Q$-Network by adjusting it's weights at each iteration to minimize the mean-squared error in the Bellman equation, where the target values are given by:\n",
    "\n",
    "$$\n",
    "y = R + \\gamma \\max_{a'}Q(s',a';w)\n",
    "$$\n",
    "\n",
    "where $w$ are the weights of the $Q$-Network. This means that we are adjusting the weights $w$ at each iteration to minimize the following error:\n",
    "\n",
    "$$\n",
    "\\overbrace{\\underbrace{R + \\gamma \\max_{a'}Q(s',a'; w)}_{\\rm {y~target}} - Q(s,a;w)}^{\\rm {Error}}\n",
    "$$\n",
    "\n",
    "Notice that this forms a problem because the $y$ target is changing on every iteration. Having a constantly moving target can lead to oscillations and instabilities. To avoid this, we can create\n",
    "a separate neural network for generating the $y$ targets. We call this separate neural network the **target $\\hat Q$-Network** and it will have the same architecture as the original $Q$-Network. By using the target $\\hat Q$-Network, the above error becomes:\n",
    "\n",
    "$$\n",
    "\\overbrace{\\underbrace{R + \\gamma \\max_{a'}\\hat{Q}(s',a'; w^-)}_{\\rm {y~target}} - Q(s,a;w)}^{\\rm {Error}}\n",
    "$$\n",
    "\n",
    "where $w^-$ and $w$ are the weights of the target $\\hat Q$-Network and $Q$-Network, respectively.\n",
    "\n",
    "In practice, we will use the following algorithm: every $C$ time steps we will use the $\\hat Q$-Network to generate the $y$ targets and update the weights of the target $\\hat Q$-Network using the weights of the $Q$-Network. We will update the weights $w^-$ of the the target $\\hat Q$-Network using a **soft update**. This means that we will update the weights $w^-$ using the following rule:\n",
    " \n",
    "$$\n",
    "w^-\\leftarrow \\tau w + (1 - \\tau) w^-\n",
    "$$\n",
    "\n",
    "where $\\tau\\ll 1$. By using the soft update, we are ensuring that the target values, $y$, change slowly, which greatly improves the stability of our learning algorithm."
   ]
  },
  {
   "cell_type": "markdown",
   "metadata": {},
   "source": [
    "<a name=\"ex01\"></a>\n",
    "### Exercise 1\n",
    "\n",
    "In this exercise you will create the $Q$ and target $\\hat Q$ networks and set the optimizer. Remember that the Deep $Q$-Network (DQN) is a neural network that approximates the action-value function $Q(s,a)\\approx Q^*(s,a)$. It does this by learning how to map states to $Q$ values.\n",
    "\n",
    "To solve the Lunar Lander environment, we are going to employ a DQN with the following architecture:\n",
    "\n",
    "* An `Input` layer that takes `state_size` as input.\n",
    "\n",
    "* A `Dense` layer with `64` units and a `relu` activation function.\n",
    "\n",
    "* A `Dense` layer with `64` units and a `relu` activation function.\n",
    "\n",
    "* A `Dense` layer with `num_actions` units and a `linear` activation function. This will be the output layer of our network.\n",
    "\n",
    "\n",
    "In the cell below you should create the $Q$-Network and the target $\\hat Q$-Network using the model architecture described above. Remember that both the $Q$-Network and the target $\\hat Q$-Network have the same architecture.\n",
    "\n",
    "Lastly, you should set `Adam` as the optimizer with a learning rate equal to `ALPHA`. Recall that `ALPHA` was defined in the [Hyperparameters](#2) section. We should note that for this exercise you should use the already imported packages:\n",
    "```python\n",
    "from tensorflow.keras.layers import Dense, Input\n",
    "from tensorflow.keras.optimizers import Adam\n",
    "```"
   ]
  },
  {
   "cell_type": "code",
   "execution_count": 14,
   "metadata": {
    "deletable": false
   },
   "outputs": [],
   "source": [
    "# UNQ_C1\n",
    "# GRADED CELL\n",
    "\n",
    "# Create the Q-Network\n",
    "q_network = Sequential([\n",
    "    ### START CODE HERE ### \n",
    "    Input(shape=state_size),\n",
    "    Dense(units=64, activation='relu'),\n",
    "    Dense(units=64, activation='relu'),\n",
    "    Dense(units=num_actions, activation='linear'),    \n",
    "    ### END CODE HERE ### \n",
    "    ])\n",
    "\n",
    "# Create the target Q^-Network\n",
    "target_q_network = Sequential([\n",
    "    ### START CODE HERE ### \n",
    "    Input(shape=state_size),                       \n",
    "    Dense(units=64, activation='relu'),            \n",
    "    Dense(units=64, activation='relu'),            \n",
    "    Dense(units=num_actions, activation='linear'),    \n",
    "    ### END CODE HERE ###\n",
    "    ])\n",
    "\n",
    "### START CODE HERE ### \n",
    "optimizer = Adam(learning_rate=ALPHA)\n",
    "### END CODE HERE ###"
   ]
  },
  {
   "cell_type": "code",
   "execution_count": 15,
   "metadata": {
    "deletable": false,
    "editable": false
   },
   "outputs": [
    {
     "name": "stdout",
     "output_type": "stream",
     "text": [
      "\u001b[92mAll tests passed!\n",
      "\u001b[92mAll tests passed!\n",
      "\u001b[92mAll tests passed!\n"
     ]
    }
   ],
   "source": [
    "# UNIT TEST\n",
    "from public_tests import *\n",
    "\n",
    "test_network(q_network)\n",
    "test_network(target_q_network)\n",
    "test_optimizer(optimizer, ALPHA) "
   ]
  },
  {
   "cell_type": "markdown",
   "metadata": {},
   "source": [
    "<details>\n",
    "  <summary><font size=\"3\" color=\"darkgreen\"><b>Click for hints</b></font></summary>\n",
    "    \n",
    "```python\n",
    "# Create the Q-Network\n",
    "q_network = Sequential([\n",
    "    Input(shape=state_size),                      \n",
    "    Dense(units=64, activation='relu'),            \n",
    "    Dense(units=64, activation='relu'),            \n",
    "    Dense(units=num_actions, activation='linear'),\n",
    "    ])\n",
    "\n",
    "# Create the target Q^-Network\n",
    "target_q_network = Sequential([\n",
    "    Input(shape=state_size),                       \n",
    "    Dense(units=64, activation='relu'),            \n",
    "    Dense(units=64, activation='relu'),            \n",
    "    Dense(units=num_actions, activation='linear'), \n",
    "    ])\n",
    "\n",
    "optimizer = Adam(learning_rate=ALPHA)                                  \n",
    "``` "
   ]
  },
  {
   "cell_type": "markdown",
   "metadata": {},
   "source": [
    "<a name=\"6.2\"></a>\n",
    "### 6.2 Experience Replay\n",
    "\n",
    "When an agent interacts with the environment, the states, actions, and rewards the agent experiences are sequential by nature. If the agent tries to learn from these consecutive experiences it can run into problems due to the strong correlations between them. To avoid this, we employ a technique known as **Experience Replay** to generate uncorrelated experiences for training our agent. Experience replay consists of storing the agent's experiences (i.e the states, actions, and rewards the agent receives) in a memory buffer and then sampling a random mini-batch of experiences from the buffer to do the learning. The experience tuples $(S_t, A_t, R_t, S_{t+1})$ will be added to the memory buffer at each time step as the agent interacts with the environment.\n",
    "\n",
    "For convenience, we will store the experiences as named tuples."
   ]
  },
  {
   "cell_type": "code",
   "execution_count": 16,
   "metadata": {
    "deletable": false,
    "editable": false
   },
   "outputs": [],
   "source": [
    "# Store experiences as named tuples\n",
    "experience = namedtuple(\"Experience\", field_names=[\"state\", \"action\", \"reward\", \"next_state\", \"done\"])"
   ]
  },
  {
   "cell_type": "markdown",
   "metadata": {},
   "source": [
    "By using experience replay we avoid problematic correlations, oscillations and instabilities. In addition, experience replay also allows the agent to potentially use the same experience in multiple weight updates, which increases data efficiency."
   ]
  },
  {
   "cell_type": "markdown",
   "metadata": {},
   "source": [
    "<a name=\"7\"></a>\n",
    "## 7 - Deep Q-Learning Algorithm with Experience Replay\n",
    "\n",
    "Now that we know all the techniques that we are going to use, we can put them together to arrive at the Deep Q-Learning Algorithm With Experience Replay.\n",
    "<br>\n",
    "<br>\n",
    "<figure>\n",
    "  <img src = \"images/deep_q_algorithm.png\" width = 90% style = \"border: thin silver solid; padding: 0px\">\n",
    "      <figcaption style = \"text-align: center; font-style: italic\">Fig 3. Deep Q-Learning with Experience Replay.</figcaption>\n",
    "</figure>"
   ]
  },
  {
   "cell_type": "markdown",
   "metadata": {},
   "source": [
    "<a name=\"ex02\"></a>\n",
    "### Exercise 2\n",
    "\n",
    "In this exercise you will implement line ***12*** of the algorithm outlined in *Fig 3* above and you will also compute the loss between the $y$ targets and the $Q(s,a)$ values. In the cell below, complete the `compute_loss` function by setting the $y$ targets equal to:\n",
    "\n",
    "$$\n",
    "\\begin{equation}\n",
    "    y_j =\n",
    "    \\begin{cases}\n",
    "      R_j & \\text{if episode terminates at step  } j+1\\\\\n",
    "      R_j + \\gamma \\max_{a'}\\hat{Q}(s_{j+1},a') & \\text{otherwise}\\\\\n",
    "    \\end{cases}       \n",
    "\\end{equation}\n",
    "$$\n",
    "\n",
    "Here are a couple of things to note:\n",
    "\n",
    "* The `compute_loss` function takes in a mini-batch of experience tuples. This mini-batch of experience tuples is unpacked to extract the `states`, `actions`, `rewards`, `next_states`, and `done_vals`. You should keep in mind that these variables are *TensorFlow Tensors* whose size will depend on the mini-batch size. For example, if the mini-batch size is `64` then both `rewards` and `done_vals` will be TensorFlow Tensors with `64` elements.\n",
    "\n",
    "\n",
    "* Using `if/else` statements to set the $y$ targets will not work when the variables are tensors with many elements. However, notice that you can use the `done_vals` to implement the above in a single line of code. To do this, recall that the `done` variable is a Boolean variable that takes the value `True` when an episode terminates at step $j+1$ and it is `False` otherwise. Taking into account that a Boolean value of `True` has the numerical value of `1` and a Boolean value of `False` has the numerical value of `0`, you can use the factor `(1 - done_vals)` to implement the above in a single line of code. Here's a hint: notice that `(1 - done_vals)` has a value of `0` when `done_vals` is `True` and a value of `1` when `done_vals` is `False`. \n",
    "\n",
    "Lastly, compute the loss by calculating the Mean-Squared Error (`MSE`) between the `y_targets` and the `q_values`. To calculate the mean-squared error you should use the already imported package `MSE`:\n",
    "```python\n",
    "from tensorflow.keras.losses import MSE\n",
    "```"
   ]
  },
  {
   "cell_type": "code",
   "execution_count": 17,
   "metadata": {
    "deletable": false
   },
   "outputs": [],
   "source": [
    "# UNQ_C2\n",
    "# GRADED FUNCTION: calculate_loss\n",
    "\n",
    "def compute_loss(experiences, gamma, q_network, target_q_network):\n",
    "    \"\"\" \n",
    "    Calculates the loss.\n",
    "    \n",
    "    Args:\n",
    "      experiences: (tuple) tuple of [\"state\", \"action\", \"reward\", \"next_state\", \"done\"] namedtuples\n",
    "      gamma: (float) The discount factor.\n",
    "      q_network: (tf.keras.Sequential) Keras model for predicting the q_values\n",
    "      target_q_network: (tf.keras.Sequential) Keras model for predicting the targets\n",
    "          \n",
    "    Returns:\n",
    "      loss: (TensorFlow Tensor(shape=(0,), dtype=int32)) the Mean-Squared Error between\n",
    "            the y targets and the Q(s,a) values.\n",
    "    \"\"\"\n",
    "\n",
    "    # Unpack the mini-batch of experience tuples\n",
    "    states, actions, rewards, next_states, done_vals = experiences\n",
    "    \n",
    "    # Compute max Q^(s,a)\n",
    "    max_qsa = tf.reduce_max(target_q_network(next_states), axis=-1)\n",
    "    \n",
    "    # Set y = R if episode terminates, otherwise set y = R + γ max Q^(s,a).\n",
    "    ### START CODE HERE ### \n",
    "    y_targets = rewards + (gamma * max_qsa * (1 - done_vals))\n",
    "    ### END CODE HERE ###\n",
    "    \n",
    "    # Get the q_values and reshape to match y_targets\n",
    "    q_values = q_network(states)\n",
    "    q_values = tf.gather_nd(q_values, tf.stack([tf.range(q_values.shape[0]),\n",
    "                                                tf.cast(actions, tf.int32)], axis=1))\n",
    "        \n",
    "    # Compute the loss\n",
    "    ### START CODE HERE ### \n",
    "    loss = MSE(y_targets, q_values)\n",
    "    ### END CODE HERE ### \n",
    "    \n",
    "    return loss"
   ]
  },
  {
   "cell_type": "code",
   "execution_count": 18,
   "metadata": {
    "deletable": false,
    "editable": false
   },
   "outputs": [
    {
     "name": "stdout",
     "output_type": "stream",
     "text": [
      "\u001b[92mAll tests passed!\n"
     ]
    }
   ],
   "source": [
    "# UNIT TEST    \n",
    "test_compute_loss(compute_loss)"
   ]
  },
  {
   "cell_type": "markdown",
   "metadata": {},
   "source": [
    "<details>\n",
    "  <summary><font size=\"3\" color=\"darkgreen\"><b>Click for hints</b></font></summary>\n",
    "    \n",
    "```python\n",
    "def compute_loss(experiences, gamma, q_network, target_q_network):\n",
    "    \"\"\" \n",
    "    Calculates the loss.\n",
    "    \n",
    "    Args:\n",
    "      experiences: (tuple) tuple of [\"state\", \"action\", \"reward\", \"next_state\", \"done\"] namedtuples\n",
    "      gamma: (float) The discount factor.\n",
    "      q_network: (tf.keras.Sequential) Keras model for predicting the q_values\n",
    "      target_q_network: (tf.keras.Sequential) Keras model for predicting the targets\n",
    "          \n",
    "    Returns:\n",
    "      loss: (TensorFlow Tensor(shape=(0,), dtype=int32)) the Mean-Squared Error between\n",
    "            the y targets and the Q(s,a) values.\n",
    "    \"\"\"\n",
    "\n",
    "    \n",
    "    # Unpack the mini-batch of experience tuples\n",
    "    states, actions, rewards, next_states, done_vals = experiences\n",
    "    \n",
    "    # Compute max Q^(s,a)\n",
    "    max_qsa = tf.reduce_max(target_q_network(next_states), axis=-1)\n",
    "    \n",
    "    # Set y = R if episode terminates, otherwise set y = R + γ max Q^(s,a).\n",
    "    y_targets = rewards + (gamma * max_qsa * (1 - done_vals))\n",
    "    \n",
    "    # Get the q_values\n",
    "    q_values = q_network(states)\n",
    "    q_values = tf.gather_nd(q_values, tf.stack([tf.range(q_values.shape[0]),\n",
    "                                                tf.cast(actions, tf.int32)], axis=1))\n",
    "    \n",
    "    # Calculate the loss\n",
    "    loss = MSE(y_targets, q_values)\n",
    "    \n",
    "    return loss\n",
    "\n",
    "``` \n",
    "    "
   ]
  },
  {
   "cell_type": "markdown",
   "metadata": {},
   "source": [
    "<a name=\"8\"></a>\n",
    "## 8 - Update the Network Weights\n",
    "\n",
    "We will use the `agent_learn` function below to implement lines ***12 -14*** of the algorithm outlined in [Fig 3](#7). The `agent_learn` function will update the weights of the $Q$ and target $\\hat Q$ networks using a custom training loop. Because we are using a custom training loop we need to retrieve the gradients via a `tf.GradientTape` instance, and then call `optimizer.apply_gradients()` to update the weights of our $Q$-Network. Note that we are also using the `@tf.function` decorator to increase performance. Without this decorator our training will take twice as long. If you would like to know more about how to increase performance with `@tf.function` take a look at the [TensorFlow documentation](https://www.tensorflow.org/guide/function).\n",
    "\n",
    "The last line of this function updates the weights of the target $\\hat Q$-Network using a [soft update](#6.1). If you want to know how this is implemented in code we encourage you to take a look at the `utils.update_target_network` function in the `utils` module."
   ]
  },
  {
   "cell_type": "code",
   "execution_count": 19,
   "metadata": {
    "deletable": false,
    "editable": false
   },
   "outputs": [],
   "source": [
    "@tf.function\n",
    "def agent_learn(experiences, gamma):\n",
    "    \"\"\"\n",
    "    Updates the weights of the Q networks.\n",
    "    \n",
    "    Args:\n",
    "      experiences: (tuple) tuple of [\"state\", \"action\", \"reward\", \"next_state\", \"done\"] namedtuples\n",
    "      gamma: (float) The discount factor.\n",
    "    \n",
    "    \"\"\"\n",
    "    \n",
    "    # Calculate the loss\n",
    "    with tf.GradientTape() as tape:\n",
    "        loss = compute_loss(experiences, gamma, q_network, target_q_network)\n",
    "\n",
    "    # Get the gradients of the loss with respect to the weights.\n",
    "    gradients = tape.gradient(loss, q_network.trainable_variables)\n",
    "    \n",
    "    # Update the weights of the q_network.\n",
    "    optimizer.apply_gradients(zip(gradients, q_network.trainable_variables))\n",
    "\n",
    "    # update the weights of target q_network\n",
    "    utils.update_target_network(q_network, target_q_network)"
   ]
  },
  {
   "cell_type": "markdown",
   "metadata": {},
   "source": [
    "<a name=\"9\"></a>\n",
    "## 9 - Train the Agent\n",
    "\n",
    "We are now ready to train our agent to solve the Lunar Lander environment. In the cell below we will implement the algorithm in [Fig 3](#7) line by line (please note that we have included the same algorithm below for easy reference. This will prevent you from scrolling up and down the notebook):\n",
    "\n",
    "* **Line 1**: We initialize the `memory_buffer` with a capacity of $N =$ `MEMORY_SIZE`. Notice that we are using a `deque` as the data structure for our `memory_buffer`.\n",
    "\n",
    "\n",
    "* **Line 2**: We skip this line since we already initialized the `q_network` in [Exercise 1](#ex01).\n",
    "\n",
    "\n",
    "* **Line 3**: We initialize the `target_q_network` by setting its weights to be equal to those of the `q_network`.\n",
    "\n",
    "\n",
    "* **Line 4**: We start the outer loop. Notice that we have set $M =$ `num_episodes = 2000`. This number is reasonable because the agent should be able to solve the Lunar Lander environment in less than `2000` episodes using this notebook's default parameters.\n",
    "\n",
    "\n",
    "* **Line 5**: We use the `.reset()` method to reset the environment to the initial state and get the initial state.\n",
    "\n",
    "\n",
    "* **Line 6**: We start the inner loop. Notice that we have set $T =$ `max_num_timesteps = 1000`. This means that the episode will automatically terminate if the episode hasn't terminated after `1000` time steps.\n",
    "\n",
    "\n",
    "* **Line 7**: The agent observes the current `state` and chooses an `action` using an $\\epsilon$-greedy policy. Our agent starts out using a value of $\\epsilon =$ `epsilon = 1` which yields an $\\epsilon$-greedy policy that is equivalent to the equiprobable random policy. This means that at the beginning of our training, the agent is just going to take random actions regardless of the observed `state`. As training progresses we will decrease the value of $\\epsilon$ slowly towards a minimum value using a given $\\epsilon$-decay rate. We want this minimum value to be close to zero because a value of $\\epsilon = 0$ will yield an $\\epsilon$-greedy policy that is equivalent to the greedy policy. This means that towards the end of training, the agent will lean towards selecting the `action` that it believes (based on its past experiences) will maximize $Q(s,a)$. We will set the minimum $\\epsilon$ value to be `0.01` and not exactly 0 because we always want to keep a little bit of exploration during training. If you want to know how this is implemented in code we encourage you to take a look at the `utils.get_action` function in the `utils` module.\n",
    "\n",
    "\n",
    "* **Line 8**: We use the `.step()` method to take the given `action` in the environment and get the `reward` and the `next_state`. \n",
    "\n",
    "\n",
    "* **Line 9**: We store the `experience(state, action, reward, next_state, done)` tuple in our `memory_buffer`. Notice that we also store the `done` variable so that we can keep track of when an episode terminates. This allowed us to set the $y$ targets in [Exercise 2](#ex02).\n",
    "\n",
    "\n",
    "* **Line 10**: We check if the conditions are met to perform a learning update. We do this by using our custom `utils.check_update_conditions` function. This function checks if $C =$ `NUM_STEPS_FOR_UPDATE = 4` time steps have occured and if our `memory_buffer` has enough experience tuples to fill a mini-batch. For example, if the mini-batch size is `64`, then our `memory_buffer` should have more than `64` experience tuples in order to pass the latter condition. If the conditions are met, then the `utils.check_update_conditions` function will return a value of `True`, otherwise it will return a value of `False`.\n",
    "\n",
    "\n",
    "* **Lines 11 - 14**: If the `update` variable is `True` then we perform a learning update. The learning update consists of sampling a random mini-batch of experience tuples from our `memory_buffer`, setting the $y$ targets, performing gradient descent, and updating the weights of the networks. We will use the `agent_learn` function we defined in [Section 8](#8) to perform the latter 3.\n",
    "\n",
    "\n",
    "* **Line 15**: At the end of each iteration of the inner loop we set `next_state` as our new `state` so that the loop can start again from this new state. In addition, we check if the episode has reached a terminal state (i.e we check if `done = True`). If a terminal state has been reached, then we break out of the inner loop.\n",
    "\n",
    "\n",
    "* **Line 16**: At the end of each iteration of the outer loop we update the value of $\\epsilon$, and check if the environment has been solved. We consider that the environment has been solved if the agent receives an average of `200` points in the last `100` episodes. If the environment has not been solved we continue the outer loop and start a new episode.\n",
    "\n",
    "Finally, we wanted to note that we have included some extra variables to keep track of the total number of points the agent received in each episode. This will help us determine if the agent has solved the environment and it will also allow us to see how our agent performed during training. We also use the `time` module to measure how long the training takes. \n",
    "\n",
    "<br>\n",
    "<br>\n",
    "<figure>\n",
    "  <img src = \"images/deep_q_algorithm.png\" width = 90% style = \"border: thin silver solid; padding: 0px\">\n",
    "      <figcaption style = \"text-align: center; font-style: italic\">Fig 4. Deep Q-Learning with Experience Replay.</figcaption>\n",
    "</figure>\n",
    "<br>\n",
    "\n",
    "**Note:** With this notebook's default parameters, the following cell takes between 10 to 15 minutes to run. "
   ]
  },
  {
   "cell_type": "code",
   "execution_count": 20,
   "metadata": {
    "deletable": false,
    "editable": false
   },
   "outputs": [
    {
     "name": "stdout",
     "output_type": "stream",
     "text": [
      "Episode 100 | Total point average of the last 100 episodes: -148.02\n",
      "Episode 200 | Total point average of the last 100 episodes: -87.168\n",
      "Episode 300 | Total point average of the last 100 episodes: -48.84\n",
      "Episode 400 | Total point average of the last 100 episodes: 86.000\n",
      "Episode 500 | Total point average of the last 100 episodes: 185.18\n",
      "Episode 600 | Total point average of the last 100 episodes: 160.97\n",
      "Episode 700 | Total point average of the last 100 episodes: 183.52\n",
      "Episode 782 | Total point average of the last 100 episodes: 200.05\n",
      "\n",
      "Environment solved in 782 episodes!\n",
      "\n",
      "Total Runtime: 917.79 s (15.30 min)\n"
     ]
    }
   ],
   "source": [
    "start = time.time()\n",
    "\n",
    "num_episodes = 2000\n",
    "max_num_timesteps = 1000\n",
    "\n",
    "total_point_history = []\n",
    "\n",
    "num_p_av = 100    # number of total points to use for averaging\n",
    "epsilon = 1.0     # initial ε value for ε-greedy policy\n",
    "\n",
    "# Create a memory buffer D with capacity N\n",
    "memory_buffer = deque(maxlen=MEMORY_SIZE)\n",
    "\n",
    "# Set the target network weights equal to the Q-Network weights\n",
    "target_q_network.set_weights(q_network.get_weights())\n",
    "\n",
    "for i in range(num_episodes):\n",
    "    \n",
    "    # Reset the environment to the initial state and get the initial state\n",
    "    state = env.reset()\n",
    "    total_points = 0\n",
    "    \n",
    "    for t in range(max_num_timesteps):\n",
    "        \n",
    "        # From the current state S choose an action A using an ε-greedy policy\n",
    "        state_qn = np.expand_dims(state, axis=0)  # state needs to be the right shape for the q_network\n",
    "        q_values = q_network(state_qn)\n",
    "        action = utils.get_action(q_values, epsilon)\n",
    "        \n",
    "        # Take action A and receive reward R and the next state S'\n",
    "        next_state, reward, done, _ = env.step(action)\n",
    "        \n",
    "        # Store experience tuple (S,A,R,S') in the memory buffer.\n",
    "        # We store the done variable as well for convenience.\n",
    "        memory_buffer.append(experience(state, action, reward, next_state, done))\n",
    "        \n",
    "        # Only update the network every NUM_STEPS_FOR_UPDATE time steps.\n",
    "        update = utils.check_update_conditions(t, NUM_STEPS_FOR_UPDATE, memory_buffer)\n",
    "        \n",
    "        if update:\n",
    "            # Sample random mini-batch of experience tuples (S,A,R,S') from D\n",
    "            experiences = utils.get_experiences(memory_buffer)\n",
    "            \n",
    "            # Set the y targets, perform a gradient descent step,\n",
    "            # and update the network weights.\n",
    "            agent_learn(experiences, GAMMA)\n",
    "        \n",
    "        state = next_state.copy()\n",
    "        total_points += reward\n",
    "        \n",
    "        if done:\n",
    "            break\n",
    "            \n",
    "    total_point_history.append(total_points)\n",
    "    av_latest_points = np.mean(total_point_history[-num_p_av:])\n",
    "    \n",
    "    # Update the ε value\n",
    "    epsilon = utils.get_new_eps(epsilon)\n",
    "\n",
    "    print(f\"\\rEpisode {i+1} | Total point average of the last {num_p_av} episodes: {av_latest_points:.2f}\", end=\"\")\n",
    "\n",
    "    if (i+1) % num_p_av == 0:\n",
    "        print(f\"\\rEpisode {i+1} | Total point average of the last {num_p_av} episodes: {av_latest_points:.2f}\")\n",
    "\n",
    "    # We will consider that the environment is solved if we get an\n",
    "    # average of 200 points in the last 100 episodes.\n",
    "    if av_latest_points >= 200.0:\n",
    "        print(f\"\\n\\nEnvironment solved in {i+1} episodes!\")\n",
    "        q_network.save('lunar_lander_model.h5')\n",
    "        break\n",
    "        \n",
    "tot_time = time.time() - start\n",
    "\n",
    "print(f\"\\nTotal Runtime: {tot_time:.2f} s ({(tot_time/60):.2f} min)\")"
   ]
  },
  {
   "cell_type": "markdown",
   "metadata": {},
   "source": [
    "We can plot the total point history along with the moving average to see how our agent improved during training. If you want to know about the different plotting options available in the `utils.plot_history` function we encourage you to take a look at the `utils` module."
   ]
  },
  {
   "cell_type": "code",
   "execution_count": 21,
   "metadata": {
    "deletable": false,
    "editable": false,
    "id": "E_EUXxurfe8m",
    "scrolled": false
   },
   "outputs": [
    {
     "data": {
      "image/png": "[encoded data removed]",
      "text/plain": [
       "<Figure size 720x504 with 1 Axes>"
      ]
     },
     "metadata": {},
     "output_type": "display_data"
    }
   ],
   "source": [
    "# Plot the total point history along with the moving average\n",
    "utils.plot_history(total_point_history)"
   ]
  },
  {
   "cell_type": "markdown",
   "metadata": {
    "id": "c_xwgaX5MnYt"
   },
   "source": [
    "<a name=\"10\"></a>\n",
    "## 10 - See the Trained Agent In Action\n",
    "\n",
    "Now that we have trained our agent, we can see it in action. We will use the `utils.create_video` function to create a video of our agent interacting with the environment using the trained $Q$-Network. The `utils.create_video` function uses the `imageio` library to create the video. This library produces some warnings that can be distracting, so, to suppress these warnings we run the code below."
   ]
  },
  {
   "cell_type": "code",
   "execution_count": 22,
   "metadata": {
    "deletable": false,
    "editable": false
   },
   "outputs": [],
   "source": [
    "# Suppress warnings from imageio\n",
    "import logging\n",
    "logging.getLogger().setLevel(logging.ERROR)"
   ]
  },
  {
   "cell_type": "markdown",
   "metadata": {},
   "source": [
    "In the cell below we create a video of our agent interacting with the Lunar Lander environment using the trained `q_network`. The video is saved to the `videos` folder with the given `filename`. We use the `utils.embed_mp4` function to embed the video in the Jupyter Notebook so that we can see it here directly without having to download it.\n",
    "\n",
    "We should note that since the lunar lander starts with a random initial force applied to its center of mass, every time you run the cell below you will see a different video. If the agent was trained properly, it should be able to land the lunar lander in the landing pad every time, regardless of the initial force applied to its center of mass."
   ]
  },
  {
   "cell_type": "code",
   "execution_count": 23,
   "metadata": {
    "deletable": false,
    "editable": false,
    "id": "3Ttb_zLeJKiG"
   },
   "outputs": [
    {
     "data": {
      "text/html": [
       "\n",
       "    <video width=\"840\" height=\"480\" controls>\n",
       "    <source src=\"data:video/mp4;base64,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\" type=\"video/mp4\">\n",
       "    Your browser does not support the video tag.\n",
       "    </video>"
      ],
      "text/plain": [
       "<IPython.core.display.HTML object>"
      ]
     },
     "execution_count": 23,
     "metadata": {},
     "output_type": "execute_result"
    }
   ],
   "source": [
    "filename = \"./videos/lunar_lander.mp4\"\n",
    "\n",
    "utils.create_video(filename, env, q_network)\n",
    "utils.embed_mp4(filename)"
   ]
  },
  {
   "cell_type": "markdown",
   "metadata": {},
   "source": [
    "<a name=\"11\"></a>\n",
    "## 11 - Congratulations!\n",
    "\n",
    "You have successfully used Deep Q-Learning with Experience Replay to train an agent to land a lunar lander safely on a landing pad on the surface of the moon. Congratulations!"
   ]
  },
  {
   "cell_type": "markdown",
   "metadata": {},
   "source": [
    "<a name=\"12\"></a>\n",
    "## 12 - References\n",
    "\n",
    "If you would like to learn more about Deep Q-Learning, we recommend you check out the following papers.\n",
    "\n",
    "\n",
    "* Mnih, V., Kavukcuoglu, K., Silver, D. et al. Human-level control through deep reinforcement learning. Nature 518, 529–533 (2015).\n",
    "\n",
    "\n",
    "* Lillicrap, T. P., Hunt, J. J., Pritzel, A., et al. Continuous Control with Deep Reinforcement Learning. ICLR (2016).\n",
    "\n",
    "\n",
    "* Mnih, V., Kavukcuoglu, K., Silver, D. et al. Playing Atari with Deep Reinforcement Learning. arXiv e-prints.  arXiv:1312.5602 (2013)."
   ]
  },
  {
   "cell_type": "markdown",
   "metadata": {},
   "source": [
    "<details>\n",
    "  <summary><font size=\"2\" color=\"darkgreen\"><b>Please click here if you want to experiment with any of the non-graded code.</b></font></summary>\n",
    "    <p><i><b>Important Note: Please only do this when you've already passed the assignment to avoid problems with the autograder.</b></i>\n",
    "    <ol>\n",
    "        <li> On the notebook’s menu, click “View” > “Cell Toolbar” > “Edit Metadata”</li>\n",
    "        <li> Hit the “Edit Metadata” button next to the code cell which you want to lock/unlock</li>\n",
    "        <li> Set the attribute value for “editable” to:\n",
    "            <ul>\n",
    "                <li> “true” if you want to unlock it </li>\n",
    "                <li> “false” if you want to lock it </li>\n",
    "            </ul>\n",
    "        </li>\n",
    "        <li> On the notebook’s menu, click “View” > “Cell Toolbar” > “None” </li>\n",
    "    </ol>\n",
    "    <p> Here's a short demo of how to do the steps above: \n",
    "        <br>\n",
    "        <img src=\"https://drive.google.com/uc?export=view&id=14Xy_Mb17CZVgzVAgq7NCjMVBvSae3xO1\" align=\"center\" alt=\"unlock_cells.gif\">\n",
    "</details>"
   ]
  }
 ],
 "metadata": {
  "accelerator": "GPU",
  "colab": {
   "collapsed_sections": [],
   "name": "TensorFlow - Lunar Lander.ipynb",
   "provenance": []
  },
  "kernelspec": {
   "display_name": "Python 3",
   "language": "python",
   "name": "python3"
  },
  "language_info": {
   "codemirror_mode": {
    "name": "ipython",
    "version": 3
   },
   "file_extension": ".py",
   "mimetype": "text/x-python",
   "name": "python",
   "nbconvert_exporter": "python",
   "pygments_lexer": "ipython3",
   "version": "3.7.6"
  }
 },
 "nbformat": 4,
 "nbformat_minor": 1
}
